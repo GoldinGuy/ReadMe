{
 "cells": [
  {
   "cell_type": "markdown",
   "metadata": {},
   "source": [
    "# Preprocessing\r\n",
    "\r\n",
    "This file contains all the code necessary to import/load the book & user data from GoodReads & Amazon, clean it, and prepare it for use"
   ]
  },
  {
   "cell_type": "code",
   "execution_count": 2,
   "metadata": {},
   "outputs": [],
   "source": [
    "# import *a lot* of stuff\r\n",
    "import numpy as np\r\n",
    "import pandas as pd\r\n",
    "import requests\r\n",
    "import pickle\r\n",
    "import scipy\r\n",
    "import html\r\n",
    "import gzip\r\n",
    "import json\r\n",
    "import csv\r\n",
    "import sys\r\n",
    "import re\r\n",
    "import io\r\n",
    "\r\n",
    "from pandas.api.types import CategoricalDtype"
   ]
  },
  {
   "cell_type": "markdown",
   "metadata": {},
   "source": [
    "### Import & Clean Amazon Data"
   ]
  },
  {
   "cell_type": "code",
   "execution_count": 3,
   "metadata": {},
   "outputs": [
    {
     "data": {
      "text/plain": "['0000092878,Biology Gods Living Creation Third Edition 10 (A Beka Book Science Series)\\n',\n '000047715X,Mksap 16 Audio Companion: Medical Knowledge Self-Assessment Program\\n',\n '0000004545,Flex! Discography of North American Punk, Hardcore, and Powerpop 1975-1985 A-M\\n']"
     },
     "execution_count": 3,
     "metadata": {},
     "output_type": "execute_result"
    }
   ],
   "source": [
    "# import Amazon data, grab title & asin\r\n",
    "asin_titles = []  # asin = Amazon Standard Identification Number\r\n",
    "\r\n",
    "with gzip.open('./data/amazon_data/meta_Books.json.gz', 'r') as fp:\r\n",
    "    for line in fp:\r\n",
    "        a = json.loads(line)\r\n",
    "        if 'title' in a:\r\n",
    "            asin_titles.append(a['asin'] + ',' + a['title'] + '\\n')\r\n",
    "\r\n",
    "asin_titles[:3]"
   ]
  },
  {
   "cell_type": "code",
   "execution_count": 4,
   "metadata": {},
   "outputs": [
    {
     "data": {
      "text/plain": "['0000092878,biology gods living creation third edition 10 \\n',\n '000047715x,mksap 16 audio companion: medical knowledge self-assessment program\\n',\n '0000004545,flex! discography of north american punk, hardcore, and powerpop 1975-1985 a-m\\n']"
     },
     "execution_count": 4,
     "metadata": {},
     "output_type": "execute_result"
    }
   ],
   "source": [
    "# clean Amazon data\r\n",
    "undesireables = [\r\n",
    "    'hardcover',\r\n",
    "    'paperback',\r\n",
    "    'volume',\r\n",
    "    'unabridged',\r\n",
    "    'boxed Set',\r\n",
    "    'collection',\r\n",
    "    'audiobook',\r\n",
    "    'publication'\r\n",
    "]\r\n",
    "\r\n",
    "asin_titles_clean = []\r\n",
    "\r\n",
    "# clean html, remove undesired words and ()/[]\r\n",
    "for asin_title in asin_titles:\r\n",
    "    asin_title = asin_title.lower()\r\n",
    "    orig = asin_title\r\n",
    "    asin_title = html.unescape(asin_title)\r\n",
    "    for word in undesireables:\r\n",
    "        asin_title = asin_title.replace(word, '')\r\n",
    "    asin_title = re.sub(\"[\\(\\[].*?[\\)\\]]\", \"\", asin_title)\r\n",
    "    asin_titles_clean.append(asin_title)\r\n",
    "\r\n",
    "asin_titles_clean[:3]"
   ]
  },
  {
   "cell_type": "code",
   "execution_count": 13,
   "metadata": {},
   "outputs": [],
   "source": [
    "# create dictionary of asin to name, generate a list of paired ratings w/ name\r\n",
    "named_ratings = []\r\n",
    "mapper = {}\r\n",
    "\r\n",
    "for asin_title in asin_titles_clean:\r\n",
    "    a_split = asin_title.strip().split(',', 1)\r\n",
    "    if len(a_split) == 2:\r\n",
    "        asin = a_split[0]\r\n",
    "        name = a_split[1]\r\n",
    "        mapper[asin] = name\r\n",
    "\r\n",
    "with gzip.open('./data/amazon_data/proc_5.json.gz', 'r') as fp:\r\n",
    "    for line in fp:\r\n",
    "        a = json.loads(line)\r\n",
    "        asin = str(a['asin'])\r\n",
    "        if asin in mapper:\r\n",
    "            a_split = [a['reviewerID'], asin, str(a['overall']), mapper[asin]]\r\n",
    "            mapped_string = \",\".join(a_split)\r\n",
    "            named_ratings.append(mapped_string + '\\n')\r\n",
    "\r\n",
    "named_ratings[:3]"
   ]
  },
  {
   "cell_type": "markdown",
   "metadata": {},
   "source": [
    "### Import & Clean GoodReads Data"
   ]
  },
  {
   "cell_type": "code",
   "execution_count": null,
   "metadata": {},
   "outputs": [],
   "source": [
    "# generate GoodReads book_id pairings\r\n",
    "goodreadsid_to_bookid = {}\r\n",
    "\r\n",
    "with open('./data/goodbooks-10k/books.csv', \"r\", encoding='utf8') as f:\r\n",
    "    reader = csv.reader(f, delimiter=\",\")\r\n",
    "    for i, line in enumerate(reader):\r\n",
    "        book_id = line[0]\r\n",
    "        goodreads_id = line[1]\r\n",
    "        goodreadsid_to_bookid[goodreads_id] = book_id\r\n",
    "\r\n",
    "with open('./data/goodbooks-10k/book_tags_with_bookid.csv', 'w') as out_file:\r\n",
    "    out_file.write('book_id,goodreads_book_id,tag_id,count\\n')\r\n",
    "\r\n",
    "    with open('./data/goodbooks-10k/book_tags.csv', \"r\") as in_file:\r\n",
    "        reader = csv.reader(in_file, delimiter=\",\")\r\n",
    "        for i, line in enumerate(reader):\r\n",
    "            if i > 0:  # don't include df header\r\n",
    "                book_id = goodreadsid_to_bookid[line[0]]\r\n",
    "                new_row = book_id + ',' + ','.join(line)\r\n",
    "                out_file.write(new_row + '\\n')"
   ]
  },
  {
   "cell_type": "code",
   "execution_count": null,
   "metadata": {},
   "outputs": [],
   "source": [
    "# decrease maxInt value by factor of 10 for as long as OverflowError occurs\r\n",
    "maxInt = sys.maxsize\r\n",
    "decrement = True\r\n",
    "while decrement:\r\n",
    "    decrement = False\r\n",
    "    try:\r\n",
    "        csv.field_size_limit(maxInt)\r\n",
    "    except OverflowError:\r\n",
    "        maxInt = int(maxInt/10)\r\n",
    "        decrement = True\r\n",
    "\r\n",
    "# util to clean string\r\n",
    "def clean(s):\r\n",
    "\ts = s.lower().strip().replace('&', 'and')\r\n",
    "\ts = ''.join([i for i in s if (i.isalpha() or i.isspace())])\r\n",
    "\ts = ' '.join(s.split())\r\n",
    "\treturn s\r\n",
    "\r\n",
    "# load books from csv\r\n",
    "with open('./data/goodbooks-10k/books.csv', 'r', encoding=\"utf-8\") as f:\r\n",
    "    books = list(csv.reader(f))\r\n",
    "\r\n",
    "# create mapping of book titles & ids\r\n",
    "mapper = {}\r\n",
    "mapper_original = {}\r\n",
    "\r\n",
    "for book in books:\r\n",
    "    book_id = book[0]\r\n",
    "\r\n",
    "    original_title = clean(book[9])\r\n",
    "    title = clean(book[10])\r\n",
    "\r\n",
    "    if book_id != 'book_id':\r\n",
    "        mapper_original[original_title] = book_id\r\n",
    "        mapper[title] = book_id\r\n",
    "\r\n",
    "print(f'Number of books: {len(books)}')"
   ]
  },
  {
   "cell_type": "markdown",
   "metadata": {},
   "source": [
    "### Compare & Combine GoodReads & Amazon Training/Test Data"
   ]
  },
  {
   "cell_type": "code",
   "execution_count": null,
   "metadata": {},
   "outputs": [],
   "source": [
    "# compare Amazon data with GoodReads\r\n",
    "file = open('./data/amazon_ratings.csv', 'w')\r\n",
    "file.write('user_id,book_id,rating\\n')\r\n",
    "\r\n",
    "amazon_ratings_not_in_goodreads = [] \r\n",
    "\r\n",
    "for rating in named_ratings:\r\n",
    "    split = rating.strip().split(',', 3)\r\n",
    "    if len(split) == 4:\r\n",
    "        user_id = split[0]\r\n",
    "        asin = split[1]\r\n",
    "        val = int(float(split[2]))\r\n",
    "        name = clean(split[3])\r\n",
    "\r\n",
    "        book_id = None\r\n",
    "        if name in mapper:\r\n",
    "            book_id = mapper[name]\r\n",
    "        if book_id == None and name in mapper_original:\r\n",
    "            book_id = mapper_original[name]\r\n",
    "        if book_id:\r\n",
    "            row = user_id + ',' + book_id + ',' + str(val) + '\\n'\r\n",
    "            file.write(row)\r\n",
    "        else:\r\n",
    "            row = user_id + ',' + asin + ',' + str(val) + '\\n'\r\n",
    "            amazon_ratings_not_in_goodreads.append(row)\r\n",
    "file.close()\r\n",
    "\r\n",
    "amazon_ratings_not_in_goodreads[:3]"
   ]
  },
  {
   "cell_type": "code",
   "execution_count": 3,
   "metadata": {},
   "outputs": [
    {
     "data": {
      "text/html": "<div>\n<style scoped>\n    .dataframe tbody tr th:only-of-type {\n        vertical-align: middle;\n    }\n\n    .dataframe tbody tr th {\n        vertical-align: top;\n    }\n\n    .dataframe thead th {\n        text-align: right;\n    }\n</style>\n<table border=\"1\" class=\"dataframe\">\n  <thead>\n    <tr style=\"text-align: right;\">\n      <th></th>\n      <th>user_id</th>\n      <th>book_id</th>\n      <th>rating</th>\n    </tr>\n  </thead>\n  <tbody>\n    <tr>\n      <th>0</th>\n      <td>1</td>\n      <td>258</td>\n      <td>5</td>\n    </tr>\n    <tr>\n      <th>1</th>\n      <td>2</td>\n      <td>4081</td>\n      <td>4</td>\n    </tr>\n    <tr>\n      <th>2</th>\n      <td>2</td>\n      <td>260</td>\n      <td>5</td>\n    </tr>\n  </tbody>\n</table>\n</div>",
      "text/plain": "   user_id  book_id  rating\n0        1      258       5\n1        2     4081       4\n2        2      260       5"
     },
     "execution_count": 3,
     "metadata": {},
     "output_type": "execute_result"
    }
   ],
   "source": [
    "# load in GoodReads ratings data (for future dev so you don't need to rerun everything)\r\n",
    "ratings_goodreads = pd.read_csv('./data/goodbooks-10k/ratings.csv')\r\n",
    "ratings_goodreads['book_id'] = ratings_goodreads['book_id'].astype(int)\r\n",
    "ratings_goodreads[:3]"
   ]
  },
  {
   "cell_type": "code",
   "execution_count": null,
   "metadata": {},
   "outputs": [],
   "source": [
    "# load in Amazon ratings data (for future dev so you don't need to rerun everything)\r\n",
    "ratings_amazon = pd.read_csv('./data/amazon_ratings.csv')\r\n",
    "ratings_amazon['book_id'] = ratings_amazon['book_id'].astype(int)\r\n",
    "ratings_amazon = ratings_amazon.drop_duplicates(subset = ['book_id', 'user_id'])\r\n",
    "# Create set of users that rated 5 or more items\r\n",
    "user_counts = ratings_amazon['user_id'].value_counts() >= 5 # minimum of 5 ratings\r\n",
    "to_drop = set()\r\n",
    "for key,value in user_counts.items():\r\n",
    "    if not value:\r\n",
    "        to_drop.add(key)\r\n",
    "# drop users that don't have 5 or more ratings\r\n",
    "ratings_amazon = ratings_amazon[~ratings_amazon['user_id'].isin(to_drop)]\r\n",
    "\r\n",
    "ratings_amazon[:3]"
   ]
  },
  {
   "cell_type": "code",
   "execution_count": null,
   "metadata": {},
   "outputs": [],
   "source": [
    "# combine GoodReads & Amazon data\r\n",
    "df = ratings_goodreads.append(ratings_amazon)\r\n",
    "# only sort by book_id bc we use the transpose of the User-Item matrix in SVD\r\n",
    "df = df.sort_values(by=['book_id'])\r\n",
    "df.head()"
   ]
  },
  {
   "cell_type": "code",
   "execution_count": 16,
   "metadata": {},
   "outputs": [],
   "source": [
    "# combine ratings that overlap\r\n",
    "users = list(df.user_id.unique())\r\n",
    "books = list(df.book_id.unique())\r\n",
    "data = df['rating'].tolist()\r\n",
    "user_type = CategoricalDtype(categories=users, ordered=True)\r\n",
    "book_type = CategoricalDtype(categories=books, ordered=True)\r\n",
    "row = df.user_id.astype(user_type).cat.codes\r\n",
    "col = df.book_id.astype(book_type).cat.codes\r\n",
    "sparse_matrix_ratings_combined = scipy.sparse.csr_matrix(\r\n",
    "    (data, (row, col)), shape=(len(users), len(books)), dtype=np.dtype('u1'))\r\n",
    "\r\n",
    "scipy.sparse.save_npz('output/ratings_combined', sparse_matrix_ratings_combined)"
   ]
  },
  {
   "cell_type": "code",
   "execution_count": 23,
   "metadata": {},
   "outputs": [
    {
     "data": {
      "text/html": "<div>\n<style scoped>\n    .dataframe tbody tr th:only-of-type {\n        vertical-align: middle;\n    }\n\n    .dataframe tbody tr th {\n        vertical-align: top;\n    }\n\n    .dataframe thead th {\n        text-align: right;\n    }\n</style>\n<table border=\"1\" class=\"dataframe\">\n  <thead>\n    <tr style=\"text-align: right;\">\n      <th></th>\n      <th>user_id</th>\n      <th>book_id</th>\n      <th>rating</th>\n    </tr>\n  </thead>\n  <tbody>\n    <tr>\n      <th>0</th>\n      <td>1</td>\n      <td>4</td>\n      <td>5</td>\n    </tr>\n    <tr>\n      <th>1</th>\n      <td>1</td>\n      <td>10</td>\n      <td>4</td>\n    </tr>\n    <tr>\n      <th>2</th>\n      <td>1</td>\n      <td>11</td>\n      <td>5</td>\n    </tr>\n    <tr>\n      <th>3</th>\n      <td>1</td>\n      <td>13</td>\n      <td>4</td>\n    </tr>\n    <tr>\n      <th>4</th>\n      <td>1</td>\n      <td>16</td>\n      <td>3</td>\n    </tr>\n  </tbody>\n</table>\n</div>",
      "text/plain": "  user_id  book_id  rating\n0       1        4       5\n1       1       10       4\n2       1       11       5\n3       1       13       4\n4       1       16       3"
     },
     "execution_count": 22,
     "metadata": {},
     "output_type": "execute_result"
    },
    {
     "data": {
      "text/html": "<div>\n<style scoped>\n    .dataframe tbody tr th:only-of-type {\n        vertical-align: middle;\n    }\n\n    .dataframe tbody tr th {\n        vertical-align: top;\n    }\n\n    .dataframe thead th {\n        text-align: right;\n    }\n</style>\n<table border=\"1\" class=\"dataframe\">\n  <thead>\n    <tr style=\"text-align: right;\">\n      <th></th>\n      <th>user_id</th>\n      <th>book_id</th>\n      <th>rating</th>\n    </tr>\n  </thead>\n  <tbody>\n    <tr>\n      <th>0</th>\n      <td>1</td>\n      <td>4</td>\n      <td>5</td>\n    </tr>\n    <tr>\n      <th>1</th>\n      <td>1</td>\n      <td>10</td>\n      <td>4</td>\n    </tr>\n    <tr>\n      <th>2</th>\n      <td>1</td>\n      <td>11</td>\n      <td>5</td>\n    </tr>\n    <tr>\n      <th>3</th>\n      <td>1</td>\n      <td>13</td>\n      <td>4</td>\n    </tr>\n    <tr>\n      <th>4</th>\n      <td>1</td>\n      <td>16</td>\n      <td>3</td>\n    </tr>\n  </tbody>\n</table>\n</div>",
      "text/plain": "  user_id  book_id  rating\n0       1        4       5\n1       1       10       4\n2       1       11       5\n3       1       13       4\n4       1       16       3"
     },
     "execution_count": 23,
     "metadata": {},
     "output_type": "execute_result"
    }
   ],
   "source": [
    "# Mapping amazon user_ids to unique ints\r\n",
    "seen = {}\r\n",
    "next_uid = 53424 + 1 # 1 more than last user in GoodReads dataset\r\n",
    "for index, row in ratings_amazon.iterrows():\r\n",
    "    username = row['user_id']\r\n",
    "    if username not in seen:\r\n",
    "        seen[username] = next_uid\r\n",
    "        next_uid += 1\r\n",
    "        \r\n",
    "    ratings_amazon.at[index, 'user_id'] = seen[username]\r\n",
    "\r\n",
    "ratings = pd.concat([ratings_goodreads, ratings_amazon])\r\n",
    "\r\n",
    "ratings = ratings.sort_values(by=['user_id','book_id'])\r\n",
    "ratings = ratings.reset_index(drop=True)\r\n",
    "\r\n",
    "ratings.to_pickle('pickled/ratings.pkl')\r\n",
    "ratings.head()\r\n"
   ]
  },
  {
   "cell_type": "markdown",
   "metadata": {},
   "source": [
    "### Misc Data Cleaning"
   ]
  },
  {
   "cell_type": "code",
   "execution_count": 12,
   "metadata": {},
   "outputs": [
    {
     "data": {
      "text/html": "<div>\n<style scoped>\n    .dataframe tbody tr th:only-of-type {\n        vertical-align: middle;\n    }\n\n    .dataframe tbody tr th {\n        vertical-align: top;\n    }\n\n    .dataframe thead th {\n        text-align: right;\n    }\n</style>\n<table border=\"1\" class=\"dataframe\">\n  <thead>\n    <tr style=\"text-align: right;\">\n      <th></th>\n      <th>title</th>\n      <th>image_url</th>\n      <th>url</th>\n      <th>author</th>\n      <th>description</th>\n      <th>popular_shelves</th>\n      <th>tags</th>\n    </tr>\n    <tr>\n      <th>id</th>\n      <th></th>\n      <th></th>\n      <th></th>\n      <th></th>\n      <th></th>\n      <th></th>\n      <th></th>\n    </tr>\n  </thead>\n  <tbody>\n    <tr>\n      <th>1</th>\n      <td>The Hunger Games (The Hunger Games, #1)</td>\n      <td>https://images.gr-assets.com/books/1447303603m...</td>\n      <td>https://www.goodreads.com/book/show/2767052-th...</td>\n      <td>Suzanne Collins</td>\n      <td>winning will make you famous. losing means cer...</td>\n      <td>young-adult young-adult young-adult young-adu...</td>\n      <td>young-adult young-adult young-adult young-adu...</td>\n    </tr>\n    <tr>\n      <th>2</th>\n      <td>Harry Potter and the Sorcerer's Stone (Harry P...</td>\n      <td>https://images.gr-assets.com/books/1474154022m...</td>\n      <td>https://www.goodreads.com/book/show/3.Harry_Po...</td>\n      <td>J.K. Rowling</td>\n      <td>harry potter's life is miserable. his parents ...</td>\n      <td>fantasy fantasy fantasy fantasy fantasy fanta...</td>\n      <td>fantasy fantasy fantasy fantasy fantasy fanta...</td>\n    </tr>\n    <tr>\n      <th>3</th>\n      <td>Twilight (Twilight, #1)</td>\n      <td>https://images.gr-assets.com/books/1361039443m...</td>\n      <td>https://www.goodreads.com/book/show/41865.Twil...</td>\n      <td>Stephenie Meyer</td>\n      <td>about three things i was absolutely positive.f...</td>\n      <td>young-adult young-adult young-adult young-adu...</td>\n      <td>young-adult young-adult young-adult young-adu...</td>\n    </tr>\n    <tr>\n      <th>4</th>\n      <td>To Kill a Mockingbird</td>\n      <td>https://images.gr-assets.com/books/1361975680m...</td>\n      <td>https://www.goodreads.com/book/show/2657.To_Ki...</td>\n      <td>Harper Lee</td>\n      <td>the unforgettable novel of a childhood in a sl...</td>\n      <td>classics classics classics classics classics ...</td>\n      <td>classics classics classics classics classics ...</td>\n    </tr>\n    <tr>\n      <th>5</th>\n      <td>The Great Gatsby</td>\n      <td>https://images.gr-assets.com/books/1490528560m...</td>\n      <td>https://www.goodreads.com/book/show/4671.The_G...</td>\n      <td>F. Scott Fitzgerald</td>\n      <td>the great gatsby, f. scott fitzgerald’s third ...</td>\n      <td>classics classics classics classics classics ...</td>\n      <td>classics classics classics classics classics ...</td>\n    </tr>\n  </tbody>\n</table>\n</div>",
      "text/plain": "                                                title  \\\nid                                                      \n1             The Hunger Games (The Hunger Games, #1)   \n2   Harry Potter and the Sorcerer's Stone (Harry P...   \n3                             Twilight (Twilight, #1)   \n4                               To Kill a Mockingbird   \n5                                    The Great Gatsby   \n\n                                            image_url  \\\nid                                                      \n1   https://images.gr-assets.com/books/1447303603m...   \n2   https://images.gr-assets.com/books/1474154022m...   \n3   https://images.gr-assets.com/books/1361039443m...   \n4   https://images.gr-assets.com/books/1361975680m...   \n5   https://images.gr-assets.com/books/1490528560m...   \n\n                                                  url               author  \\\nid                                                                           \n1   https://www.goodreads.com/book/show/2767052-th...      Suzanne Collins   \n2   https://www.goodreads.com/book/show/3.Harry_Po...         J.K. Rowling   \n3   https://www.goodreads.com/book/show/41865.Twil...      Stephenie Meyer   \n4   https://www.goodreads.com/book/show/2657.To_Ki...           Harper Lee   \n5   https://www.goodreads.com/book/show/4671.The_G...  F. Scott Fitzgerald   \n\n                                          description  \\\nid                                                      \n1   winning will make you famous. losing means cer...   \n2   harry potter's life is miserable. his parents ...   \n3   about three things i was absolutely positive.f...   \n4   the unforgettable novel of a childhood in a sl...   \n5   the great gatsby, f. scott fitzgerald’s third ...   \n\n                                      popular_shelves  \\\nid                                                      \n1    young-adult young-adult young-adult young-adu...   \n2    fantasy fantasy fantasy fantasy fantasy fanta...   \n3    young-adult young-adult young-adult young-adu...   \n4    classics classics classics classics classics ...   \n5    classics classics classics classics classics ...   \n\n                                                 tags  \nid                                                     \n1    young-adult young-adult young-adult young-adu...  \n2    fantasy fantasy fantasy fantasy fantasy fanta...  \n3    young-adult young-adult young-adult young-adu...  \n4    classics classics classics classics classics ...  \n5    classics classics classics classics classics ...  "
     },
     "execution_count": 12,
     "metadata": {},
     "output_type": "execute_result"
    }
   ],
   "source": [
    "# load in books dataframe (for future dev so you don't need to rerun everything)\r\n",
    "books = pd.read_pickle('pickled/books.pkl')\r\n",
    "books.head()\r\n"
   ]
  },
  {
   "cell_type": "code",
   "execution_count": 13,
   "metadata": {},
   "outputs": [
    {
     "name": "stdout",
     "output_type": "stream",
     "text": [
      "50\n"
     ]
    }
   ],
   "source": [
    "# fix book df missing many images\r\n",
    "new_books = books.copy(True)\r\n",
    "imageExp = re.compile(\"<img id=\\\"coverImage\\\" alt=\\\"[^\\\"]*\\\" src=\\\"([^\\\"]*)\\\"\")\r\n",
    "\r\n",
    "j = 0\r\n",
    "for i in range(new_books.shape[0]):\r\n",
    "    if \"nophoto\" in new_books.iloc[i, :].image_url:\r\n",
    "        response = requests.get(new_books.iloc[i, :].url)\r\n",
    "        try:\r\n",
    "            new_url = imageExp.search(response.text).group(1)\r\n",
    "            new_books.iloc[i, :].image_url = new_url\r\n",
    "            j += 1\r\n",
    "            if j % 50 == 49:\r\n",
    "                print(j + 1)\r\n",
    "        except AttributeError:\r\n",
    "            print('No image for %d' % i)\r\n",
    "\r\n",
    "new_books.head()"
   ]
  },
  {
   "cell_type": "code",
   "execution_count": 15,
   "metadata": {},
   "outputs": [
    {
     "data": {
      "text/plain": "3251"
     },
     "execution_count": 15,
     "metadata": {},
     "output_type": "execute_result"
    }
   ],
   "source": [
    "new_books.image_url.str.contains('nophoto').sum()"
   ]
  },
  {
   "cell_type": "code",
   "execution_count": 6,
   "metadata": {},
   "outputs": [
    {
     "data": {
      "text/html": "<div>\n<style scoped>\n    .dataframe tbody tr th:only-of-type {\n        vertical-align: middle;\n    }\n\n    .dataframe tbody tr th {\n        vertical-align: top;\n    }\n\n    .dataframe thead th {\n        text-align: right;\n    }\n</style>\n<table border=\"1\" class=\"dataframe\">\n  <thead>\n    <tr style=\"text-align: right;\">\n      <th></th>\n      <th>title</th>\n      <th>image_url</th>\n      <th>url</th>\n      <th>author</th>\n      <th>description</th>\n      <th>popular_shelves</th>\n      <th>tags</th>\n    </tr>\n    <tr>\n      <th>id</th>\n      <th></th>\n      <th></th>\n      <th></th>\n      <th></th>\n      <th></th>\n      <th></th>\n      <th></th>\n    </tr>\n  </thead>\n  <tbody>\n    <tr>\n      <th>1</th>\n      <td>The Hunger Games (The Hunger Games, #1)</td>\n      <td>https://images.gr-assets.com/books/1447303603m...</td>\n      <td>https://www.goodreads.com/book/show/2767052-th...</td>\n      <td>Suzanne Collins</td>\n      <td>Winning will make you famous. Losing means cer...</td>\n      <td>young-adult young-adult young-adult young-adu...</td>\n      <td>young-adult young-adult young-adult young-adu...</td>\n    </tr>\n    <tr>\n      <th>2</th>\n      <td>Harry Potter and the Sorcerer's Stone (Harry P...</td>\n      <td>https://images.gr-assets.com/books/1474154022m...</td>\n      <td>https://www.goodreads.com/book/show/3.Harry_Po...</td>\n      <td>J.K. Rowling</td>\n      <td>Harry Potter's life is miserable. His parents ...</td>\n      <td>fantasy fantasy fantasy fantasy fantasy fanta...</td>\n      <td>fantasy fantasy fantasy fantasy fantasy fanta...</td>\n    </tr>\n    <tr>\n      <th>3</th>\n      <td>Twilight (Twilight, #1)</td>\n      <td>https://images.gr-assets.com/books/1361039443m...</td>\n      <td>https://www.goodreads.com/book/show/41865.Twil...</td>\n      <td>Stephenie Meyer</td>\n      <td>About three things I was absolutely positive.F...</td>\n      <td>young-adult young-adult young-adult young-adu...</td>\n      <td>young-adult young-adult young-adult young-adu...</td>\n    </tr>\n    <tr>\n      <th>4</th>\n      <td>To Kill a Mockingbird</td>\n      <td>https://images.gr-assets.com/books/1361975680m...</td>\n      <td>https://www.goodreads.com/book/show/2657.To_Ki...</td>\n      <td>Harper Lee</td>\n      <td>The unforgettable novel of a childhood in a sl...</td>\n      <td>classics classics classics classics classics ...</td>\n      <td>classics classics classics classics classics ...</td>\n    </tr>\n    <tr>\n      <th>5</th>\n      <td>The Great Gatsby</td>\n      <td>https://images.gr-assets.com/books/1490528560m...</td>\n      <td>https://www.goodreads.com/book/show/4671.The_G...</td>\n      <td>F. Scott Fitzgerald</td>\n      <td>THE GREAT GATSBY, F. Scott Fitzgerald’s third ...</td>\n      <td>classics classics classics classics classics ...</td>\n      <td>classics classics classics classics classics ...</td>\n    </tr>\n  </tbody>\n</table>\n</div>",
      "text/plain": "                                                title  \\\nid                                                      \n1             The Hunger Games (The Hunger Games, #1)   \n2   Harry Potter and the Sorcerer's Stone (Harry P...   \n3                             Twilight (Twilight, #1)   \n4                               To Kill a Mockingbird   \n5                                    The Great Gatsby   \n\n                                            image_url  \\\nid                                                      \n1   https://images.gr-assets.com/books/1447303603m...   \n2   https://images.gr-assets.com/books/1474154022m...   \n3   https://images.gr-assets.com/books/1361039443m...   \n4   https://images.gr-assets.com/books/1361975680m...   \n5   https://images.gr-assets.com/books/1490528560m...   \n\n                                                  url               author  \\\nid                                                                           \n1   https://www.goodreads.com/book/show/2767052-th...      Suzanne Collins   \n2   https://www.goodreads.com/book/show/3.Harry_Po...         J.K. Rowling   \n3   https://www.goodreads.com/book/show/41865.Twil...      Stephenie Meyer   \n4   https://www.goodreads.com/book/show/2657.To_Ki...           Harper Lee   \n5   https://www.goodreads.com/book/show/4671.The_G...  F. Scott Fitzgerald   \n\n                                          description  \\\nid                                                      \n1   Winning will make you famous. Losing means cer...   \n2   Harry Potter's life is miserable. His parents ...   \n3   About three things I was absolutely positive.F...   \n4   The unforgettable novel of a childhood in a sl...   \n5   THE GREAT GATSBY, F. Scott Fitzgerald’s third ...   \n\n                                      popular_shelves  \\\nid                                                      \n1    young-adult young-adult young-adult young-adu...   \n2    fantasy fantasy fantasy fantasy fantasy fanta...   \n3    young-adult young-adult young-adult young-adu...   \n4    classics classics classics classics classics ...   \n5    classics classics classics classics classics ...   \n\n                                                 tags  \nid                                                     \n1    young-adult young-adult young-adult young-adu...  \n2    fantasy fantasy fantasy fantasy fantasy fanta...  \n3    young-adult young-adult young-adult young-adu...  \n4    classics classics classics classics classics ...  \n5    classics classics classics classics classics ...  "
     },
     "execution_count": 6,
     "metadata": {},
     "output_type": "execute_result"
    }
   ],
   "source": [
    "books = pd.read_pickle('pickled/books.pkl')\r\n",
    "books.head()\r\n",
    "\r\n",
    "# with open('output/books_df', 'wb') as f:\r\n",
    "#     pickle.dump(books, f)\r\n"
   ]
  },
  {
   "cell_type": "code",
   "execution_count": 43,
   "metadata": {},
   "outputs": [
    {
     "data": {
      "text/plain": "title\nThe Hunger Games (The Hunger Games, #1)                     1\nHarry Potter and the Sorcerer's Stone (Harry Potter, #1)    2\nTwilight (Twilight, #1)                                     3\nName: id, dtype: int64"
     },
     "execution_count": 43,
     "metadata": {},
     "output_type": "execute_result"
    }
   ],
   "source": [
    "indices = pd.Series(books.index, index=books['title']).drop_duplicates()\r\n",
    "indices[:3]\r\n"
   ]
  },
  {
   "cell_type": "code",
   "execution_count": 60,
   "metadata": {},
   "outputs": [
    {
     "data": {
      "text/plain": "title                                   Shadow and Bone (Grisha, #1)\nimage_url          https://images.gr-assets.com/books/1339533695m...\nurl                https://www.goodreads.com/book/show/10194157-s...\nauthor                                                 Leigh Bardugo\ndescription        surrounded by enemies, the once-great nation o...\npopular_shelves     fantasy fantasy fantasy fantasy fantasy fanta...\ntags                fantasy fantasy fantasy fantasy fantasy fanta...\nName: 1000, dtype: object"
     },
     "execution_count": 60,
     "metadata": {},
     "output_type": "execute_result"
    }
   ],
   "source": [
    "books.loc[1000]"
   ]
  }
 ],
 "metadata": {
  "kernelspec": {
   "display_name": "Python 3.7.2 64-bit",
   "name": "python372jvsc74a57bd00aa4897afac821febff936c1e315d75cb0dba5e4431c90b659ef5b82b1a63f37"
  },
  "language_info": {
   "codemirror_mode": {
    "name": "ipython",
    "version": 3
   },
   "file_extension": ".py",
   "mimetype": "text/x-python",
   "name": "python",
   "nbconvert_exporter": "python",
   "pygments_lexer": "ipython3",
   "version": "3.7.2"
  },
  "metadata": {
   "interpreter": {
    "hash": "0aa4897afac821febff936c1e315d75cb0dba5e4431c90b659ef5b82b1a63f37"
   }
  },
  "orig_nbformat": 2
 },
 "nbformat": 4,
 "nbformat_minor": 2
}