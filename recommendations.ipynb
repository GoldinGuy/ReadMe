{
 "cells": [
  {
   "cell_type": "code",
   "execution_count": 8,
   "metadata": {},
   "outputs": [],
   "source": [
    "# imports\r\n",
    "import numpy as np\r\n",
    "import pandas as pd\r\n",
    "import scipy\r\n",
    "import os\r\n",
    "from sklearn.metrics.pairwise import linear_kernel, cosine_similarity"
   ]
  },
  {
   "cell_type": "code",
   "execution_count": 3,
   "metadata": {},
   "outputs": [],
   "source": [
    "# recommendations function \r\n",
    "def make_book_recs(book_title, books, indices, weights, similarities):\r\n",
    "    # get index of input book_title\r\n",
    "    idx = indices[book_title] - 1\r\n",
    "    # generate pairwise similarity scores for each book for selected title\r\n",
    "    sim_scores = [list(enumerate(sim[idx])) for sim in similarities]\r\n",
    "\r\n",
    "    true_sim_scores = []\r\n",
    "    # total num books\r\n",
    "    n_books = len(similarities[0])\r\n",
    "    # generate true similatities by summing & avging sim scores of each feature\r\n",
    "    for i in range(n_books):\r\n",
    "        book_id = sim_scores[0][i][0]\r\n",
    "        s = 0\r\n",
    "        for j in range(len(weights)):\r\n",
    "            s += sim_scores[j][i][1] * weights[j]\r\n",
    "        true_sim_scores.append((book_id, s))\r\n",
    "\r\n",
    "    # sort by similarity\r\n",
    "    true_sim_scores = sorted(true_sim_scores, key=lambda a: a[1], reverse=True)\r\n",
    "    N = 20\r\n",
    "    true_sim_scores = true_sim_scores[:N]\r\n",
    "    book_indices = [i[0] for i in true_sim_scores]\r\n",
    "\r\n",
    "    return books['title'].iloc[book_indices]"
   ]
  },
  {
   "cell_type": "code",
   "execution_count": 4,
   "metadata": {},
   "outputs": [
    {
     "name": "stdout",
     "output_type": "stream",
     "text": [
      "<class 'pandas.core.frame.DataFrame'>\n",
      "Int64Index: 10000 entries, 1 to 10000\n",
      "Data columns (total 7 columns):\n",
      " #   Column           Non-Null Count  Dtype \n",
      "---  ------           --------------  ----- \n",
      " 0   title            10000 non-null  object\n",
      " 1   image_url        10000 non-null  object\n",
      " 2   url              10000 non-null  object\n",
      " 3   author           10000 non-null  object\n",
      " 4   description      10000 non-null  object\n",
      " 5   popular_shelves  10000 non-null  object\n",
      " 6   tags             10000 non-null  object\n",
      "dtypes: object(7)\n",
      "memory usage: 625.0+ KB\n"
     ]
    }
   ],
   "source": [
    "# fetch books \r\n",
    "books = pd.read_pickle('pickled/books.pkl')\r\n",
    "books.info()"
   ]
  },
  {
   "cell_type": "code",
   "execution_count": 6,
   "metadata": {},
   "outputs": [
    {
     "data": {
      "text/plain": "(10000, 1300)"
     },
     "execution_count": 6,
     "metadata": {},
     "output_type": "execute_result"
    }
   ],
   "source": [
    "# load in SVD & features combined matrix \r\n",
    "readme_recs_m = np.load('models/readme_m.npy')\r\n",
    "readme_recs_m.shape"
   ]
  },
  {
   "cell_type": "code",
   "execution_count": 9,
   "metadata": {},
   "outputs": [
    {
     "data": {
      "text/plain": "array([[1.        , 0.34619745, 0.46108439, ..., 0.08783531, 0.06104606,\n        0.01922178],\n       [0.34619745, 1.        , 0.46494621, ..., 0.04130631, 0.02947556,\n        0.0121831 ],\n       [0.46108439, 0.46494621, 1.        , ..., 0.0417777 , 0.01729379,\n        0.01312398],\n       ...,\n       [0.08783531, 0.04130631, 0.0417777 , ..., 1.        , 0.08188677,\n        0.09385856],\n       [0.06104606, 0.02947556, 0.01729379, ..., 0.08188677, 1.        ,\n        0.13150175],\n       [0.01922178, 0.0121831 , 0.01312398, ..., 0.09385856, 0.13150175,\n        1.        ]])"
     },
     "execution_count": 9,
     "metadata": {},
     "output_type": "execute_result"
    }
   ],
   "source": [
    "# cosine sim\r\n",
    "cosine_sim = cosine_similarity(readme_recs_m)\r\n",
    "cosine_sim"
   ]
  },
  {
   "cell_type": "code",
   "execution_count": 11,
   "metadata": {},
   "outputs": [
    {
     "data": {
      "text/plain": "title\nThe Hunger Games (The Hunger Games, #1)                     1\nHarry Potter and the Sorcerer's Stone (Harry Potter, #1)    2\nTwilight (Twilight, #1)                                     3\nName: id, dtype: int64"
     },
     "execution_count": 11,
     "metadata": {},
     "output_type": "execute_result"
    }
   ],
   "source": [
    "# reverse mapping of book_titles & indexes\r\n",
    "indices = pd.Series(books.index, index=books['title']).drop_duplicates()\r\n",
    "indices[:3]"
   ]
  },
  {
   "cell_type": "code",
   "execution_count": 18,
   "metadata": {},
   "outputs": [
    {
     "data": {
      "text/plain": "id\n2205                Sapiens: A Brief History of Humankind\n900                                      The Selfish Gene\n4096    Bringing Down the House: The Inside Story of S...\n8347                                  A Night to Remember\n3867                       So You've Been Publicly Shamed\n7372                                     Stupid White Men\n8930                     Them: Adventures with Extremists\n9949                           The Men Who Stare at Goats\n7929    Very Good Lives: The Fringe Benefits of Failur...\n7517    Six Easy Pieces: Essentials of Physics By Its ...\n1048    The Perfect Storm: A True Story of Men Against...\n1344                What the Dog Saw and Other Adventures\n4119                            A Briefer History of Time\n758            Stiff: The Curious Lives of Human Cadavers\n892     David and Goliath: Underdogs, Misfits, and the...\n1046                                       Modern Romance\n8639                         Detroit: An American Autopsy\n2661        Bonk: The Curious Coupling of Science and Sex\n3933                 Spook: Science Tackles the Afterlife\n2557    Boundaries: When to Say Yes, How to Say No to ...\nName: title, dtype: object"
     },
     "execution_count": 18,
     "metadata": {},
     "output_type": "execute_result"
    }
   ],
   "source": [
    "weights = [1]\r\n",
    "similarities = [cosine_sim]\r\n",
    "\r\n",
    "NEW_BOOK = \"Sapiens: A Brief History of Humankind\"\r\n",
    "\r\n",
    "book_recs = make_book_recs(NEW_BOOK, books, indices, weights, similarities)\r\n",
    "book_recs\r\n"
   ]
  }
 ],
 "metadata": {
  "kernelspec": {
   "display_name": "Python 3.7.2 64-bit",
   "name": "python372jvsc74a57bd00aa4897afac821febff936c1e315d75cb0dba5e4431c90b659ef5b82b1a63f37"
  },
  "language_info": {
   "name": "python",
   "version": ""
  },
  "metadata": {
   "interpreter": {
    "hash": "0aa4897afac821febff936c1e315d75cb0dba5e4431c90b659ef5b82b1a63f37"
   }
  },
  "orig_nbformat": 2
 },
 "nbformat": 4,
 "nbformat_minor": 2
}